{
 "cells": [
  {
   "cell_type": "code",
   "execution_count": null,
   "id": "c219c23e",
   "metadata": {
    "vscode": {
     "languageId": "plaintext"
    }
   },
   "outputs": [],
   "source": [
    "from ultralytics import YOLO\n",
    "\n",
    "model = YOLO(\"yolov8n.pt\")\n",
    "\n",
    "model.train(\n",
    "    data=\"path_to_dataset/data.yaml\",\n",
    "    epochs=50,\n",
    "    imgsz=640,\n",
    "    batch=16,\n",
    "    name=\"yolov8_experiment\"\n",
    ")\n",
    "\n",
    "model.save(\"yolov8_trained.pt\")\n"
   ]
  },
  {
   "cell_type": "code",
   "execution_count": null,
   "id": "445512dc",
   "metadata": {
    "vscode": {
     "languageId": "plaintext"
    }
   },
   "outputs": [],
   "source": [
    "from ultralytics import YOLO\n",
    "import matplotlib.pyplot as plt\n",
    "from PIL import Image\n",
    "\n",
    "model = YOLO(\"yolov8_trained.pt\")\n",
    "\n",
    "test_image = \"path_to_dataset/test_image.jpg\"\n",
    "img = Image.open(test_image)\n",
    "plt.imshow(img)\n",
    "plt.axis('off')\n",
    "plt.show()\n",
    "\n",
    "results = model.predict(source=test_image)\n",
    "\n",
    "results.show()  # display bounding boxes on the image\n",
    "\n",
    "metrics = model.val(data=\"path_to_dataset/data.yaml\")\n",
    "print(metrics)\n"
   ]
  }
 ],
 "metadata": {
  "language_info": {
   "name": "python"
  }
 },
 "nbformat": 4,
 "nbformat_minor": 5
}
