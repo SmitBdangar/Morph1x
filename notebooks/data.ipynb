{
 "cells": [
  {
   "cell_type": "code",
   "execution_count": null,
   "id": "1ae2e225",
   "metadata": {
    "vscode": {
     "languageId": "plaintext"
    }
   },
   "outputs": [],
   "source": [
    "import os\n",
    "import matplotlib.pyplot as plt\n",
    "from PIL import Image\n",
    "import json\n",
    "\n",
    "dataset_path = \"path_to_dataset/images\"\n",
    "annotations_path = \"path_to_dataset/annotations.json\"\n",
    "\n",
    "images = os.listdir(dataset_path)\n",
    "print(f\"Number of images: {len(images)}\")\n",
    "\n",
    "with open(annotations_path, 'r') as f:\n",
    "    annotations = json.load(f)\n",
    "\n",
    "img_path = os.path.join(dataset_path, images[0])\n",
    "img = Image.open(img_path)\n",
    "plt.imshow(img)\n",
    "plt.axis('off')\n",
    "plt.show()\n",
    "\n",
    "print(\"Annotations for first image:\", annotations[images[0]])\n"
   ]
  }
 ],
 "metadata": {
  "language_info": {
   "name": "python"
  }
 },
 "nbformat": 4,
 "nbformat_minor": 5
}
