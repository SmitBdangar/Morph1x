{
 "cells": [
  {
   "cell_type": "markdown",
   "id": "93abd44a",
   "metadata": {},
   "source": [
    "# Morph1x - Object Detection Demo\n",
    "\n",
    "This notebook demonstrates the Morph1x video tracking system for detecting living beings in images and videos.\n",
    "\n",
    "## Features\n",
    "- 🎯 Real-time object detection using YOLOv8\n",
    "- 🟢 Green bounding boxes around living beings\n",
    "- 🏷️ Labels showing object names and confidence scores\n",
    "- 📊 Detection statistics and visualization\n"
   ]
  },
  {
   "cell_type": "code",
   "execution_count": null,
   "id": "ceb4ecd7",
   "metadata": {},
   "outputs": [],
   "source": [
    "# Import required libraries\n",
    "import sys\n",
    "import os\n",
    "import cv2\n",
    "import numpy as np\n",
    "import matplotlib.pyplot as plt\n",
    "from pathlib import Path\n",
    "\n",
    "# Add src to path\n",
    "sys.path.insert(0, str(Path.cwd().parent / \"src\"))\n",
    "\n",
    "from src.detection import create_detector\n",
    "from src.utils import draw_detections, draw_info_panel, FPSMeter\n",
    "from src.config import PRIMARY_LIVING_BEINGS\n",
    "\n",
    "print(\"✅ Libraries imported successfully!\")\n",
    "print(f\"🎯 Detecting: {list(PRIMARY_LIVING_BEINGS.values())}\")\n"
   ]
  },
  {
   "cell_type": "markdown",
   "id": "0dcf807c",
   "metadata": {},
   "source": [
    "## 1. Initialize the Detector\n",
    "\n",
    "Let's create our YOLOv8-based detector for living beings.\n"
   ]
  },
  {
   "cell_type": "code",
   "execution_count": null,
   "id": "053f9833",
   "metadata": {},
   "outputs": [],
   "source": [
    "# Initialize the detector\n",
    "detector = create_detector()\n",
    "\n",
    "print(\"🎯 YOLOv8 detector initialized!\")\n",
    "print(\"📁 Model loaded from:\", detector.model_path)\n"
   ]
  },
  {
   "cell_type": "markdown",
   "id": "b14673c7",
   "metadata": {},
   "source": [
    "## 2. Test Detection on Sample Image\n",
    "\n",
    "Let's create a test image and run detection on it.\n"
   ]
  },
  {
   "cell_type": "code",
   "execution_count": null,
   "id": "e519004f",
   "metadata": {},
   "outputs": [],
   "source": [
    "# Create a test image (you can replace this with your own image)\n",
    "test_image = np.zeros((480, 640, 3), dtype=np.uint8)\n",
    "\n",
    "# Draw some shapes to simulate objects\n",
    "cv2.rectangle(test_image, (100, 100), (300, 400), (100, 100, 100), -1)  # Gray rectangle\n",
    "cv2.circle(test_image, (450, 200), 80, (150, 150, 150), -1)  # Gray circle\n",
    "cv2.putText(test_image, \"Test Image\", (250, 50), cv2.FONT_HERSHEY_SIMPLEX, 1, (255, 255, 255), 2)\n",
    "\n",
    "# Run detection\n",
    "detections = detector.detect_living_beings(test_image)\n",
    "\n",
    "print(f\"🔍 Found {len(detections)} detections\")\n",
    "for i, det in enumerate(detections):\n",
    "    print(f\"  {i+1}. {det['class_name']} (confidence: {det['confidence']:.2f})\")\n",
    "\n",
    "# Display the image\n",
    "plt.figure(figsize=(10, 6))\n",
    "plt.imshow(cv2.cvtColor(test_image, cv2.COLOR_BGR2RGB))\n",
    "plt.title(\"Test Image\")\n",
    "plt.axis('off')\n",
    "plt.show()\n"
   ]
  },
  {
   "cell_type": "markdown",
   "id": "08f0fba8",
   "metadata": {},
   "source": [
    "## 3. Load and Process Your Own Image\n",
    "\n",
    "Replace the path below with your own image to test detection.\n"
   ]
  },
  {
   "cell_type": "code",
   "execution_count": null,
   "id": "4950085a",
   "metadata": {},
   "outputs": [],
   "source": [
    "# Load your own image (uncomment and modify the path)\n",
    "# image_path = \"path/to/your/image.jpg\"\n",
    "# if os.path.exists(image_path):\n",
    "#     image = cv2.imread(image_path)\n",
    "#     image_rgb = cv2.cvtColor(image, cv2.COLOR_BGR2RGB)\n",
    "#     \n",
    "#     # Run detection\n",
    "#     detections = detector.detect_living_beings(image)\n",
    "#     \n",
    "#     # Draw detections\n",
    "#     result_image = draw_detections(image.copy(), detections)\n",
    "#     result_image = draw_info_panel(result_image, detection_count=len(detections))\n",
    "#     result_rgb = cv2.cvtColor(result_image, cv2.COLOR_BGR2RGB)\n",
    "#     \n",
    "#     # Display results\n",
    "#     fig, (ax1, ax2) = plt.subplots(1, 2, figsize=(15, 6))\n",
    "#     ax1.imshow(image_rgb)\n",
    "#     ax1.set_title(\"Original Image\")\n",
    "#     ax1.axis('off')\n",
    "#     \n",
    "#     ax2.imshow(result_rgb)\n",
    "#     ax2.set_title(f\"Detections: {len(detections)}\")\n",
    "#     ax2.axis('off')\n",
    "#     \n",
    "#     plt.tight_layout()\n",
    "#     plt.show()\n",
    "#     \n",
    "#     print(f\"🎯 Found {len(detections)} living beings:\")\n",
    "#     for det in detections:\n",
    "#         print(f\"  - {det['class_name']}: {det['confidence']:.2f}\")\n",
    "# else:\n",
    "#     print(\"📁 Please update the image_path variable with a valid image file\")\n",
    "\n",
    "print(\"💡 To test with your own image, uncomment and modify the code above!\")\n"
   ]
  },
  {
   "cell_type": "markdown",
   "id": "40059abd",
   "metadata": {},
   "source": [
    "## 4. Video Processing Demo\n",
    "\n",
    "Let's process a video file frame by frame to see the detection in action.\n"
   ]
  },
  {
   "cell_type": "code",
   "execution_count": null,
   "id": "6b84cbff",
   "metadata": {},
   "outputs": [],
   "source": [
    "# Video processing demo\n",
    "def process_video_demo(video_path, max_frames=10):\n",
    "    \"\"\"Process a video and show detection results.\"\"\"\n",
    "    if not os.path.exists(video_path):\n",
    "        print(f\"❌ Video file not found: {video_path}\")\n",
    "        return\n",
    "    \n",
    "    cap = cv2.VideoCapture(video_path)\n",
    "    fps_meter = FPSMeter()\n",
    "    frame_count = 0\n",
    "    \n",
    "    print(f\"🎬 Processing video: {video_path}\")\n",
    "    print(\"📊 Showing first few frames with detections...\")\n",
    "    \n",
    "    while cap.isOpened() and frame_count < max_frames:\n",
    "        ret, frame = cap.read()\n",
    "        if not ret:\n",
    "            break\n",
    "        \n",
    "        # Run detection\n",
    "        detections = detector.detect_living_beings(frame)\n",
    "        \n",
    "        # Draw detections\n",
    "        result_frame = draw_detections(frame.copy(), detections)\n",
    "        result_frame = draw_info_panel(\n",
    "            result_frame, \n",
    "            fps=fps_meter.get_fps(),\n",
    "            detection_count=len(detections)\n",
    "        )\n",
    "        \n",
    "        # Convert to RGB for matplotlib\n",
    "        result_rgb = cv2.cvtColor(result_frame, cv2.COLOR_BGR2RGB)\n",
    "        \n",
    "        # Display frame\n",
    "        plt.figure(figsize=(12, 8))\n",
    "        plt.imshow(result_rgb)\n",
    "        plt.title(f\"Frame {frame_count + 1} - Detections: {len(detections)}\")\n",
    "        plt.axis('off')\n",
    "        plt.show()\n",
    "        \n",
    "        print(f\"Frame {frame_count + 1}: {len(detections)} detections\")\n",
    "        for det in detections:\n",
    "            print(f\"  - {det['class_name']}: {det['confidence']:.2f}\")\n",
    "        \n",
    "        fps_meter.update()\n",
    "        frame_count += 1\n",
    "    \n",
    "    cap.release()\n",
    "    print(f\"✅ Processed {frame_count} frames\")\n",
    "\n",
    "# Uncomment to process your video\n",
    "# process_video_demo(\"path/to/your/video.mp4\", max_frames=5)\n",
    "\n",
    "print(\"💡 To process your video, uncomment the line above and update the path!\")\n"
   ]
  },
  {
   "cell_type": "markdown",
   "id": "6bf213f8",
   "metadata": {},
   "source": [
    "## 5. Detection Statistics\n",
    "\n",
    "Let's analyze the detection capabilities and performance.\n"
   ]
  },
  {
   "cell_type": "code",
   "execution_count": null,
   "id": "59522b93",
   "metadata": {},
   "outputs": [],
   "source": [
    "# Display detection capabilities\n",
    "print(\"🎯 Morph1x Detection Capabilities\")\n",
    "print(\"=\" * 40)\n",
    "print(\"Living beings that can be detected:\")\n",
    "for class_id, class_name in PRIMARY_LIVING_BEINGS.items():\n",
    "    print(f\"  {class_id:2d}. {class_name}\")\n",
    "\n",
    "print(f\"\\n📊 Total classes: {len(PRIMARY_LIVING_BEINGS)}\")\n",
    "print(f\"🎯 Primary focus: Humans and animals\")\n",
    "\n",
    "# Performance test\n",
    "import time\n",
    "test_image = np.random.randint(0, 255, (480, 640, 3), dtype=np.uint8)\n",
    "\n",
    "start_time = time.time()\n",
    "detections = detector.detect_living_beings(test_image)\n",
    "end_time = time.time()\n",
    "\n",
    "print(f\"\\n⚡ Performance Test:\")\n",
    "print(f\"  Processing time: {(end_time - start_time)*1000:.2f} ms\")\n",
    "print(f\"  Detections found: {len(detections)}\")\n",
    "\n",
    "print(f\"\\n✅ Morph1x is ready for real-time detection!\")\n"
   ]
  }
 ],
 "metadata": {
  "language_info": {
   "name": "python"
  }
 },
 "nbformat": 4,
 "nbformat_minor": 5
}
